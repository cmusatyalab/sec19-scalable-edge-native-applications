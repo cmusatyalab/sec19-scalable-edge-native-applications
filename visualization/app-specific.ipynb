{
 "cells": [
  {
   "cell_type": "code",
   "execution_count": 1,
   "metadata": {},
   "outputs": [],
   "source": [
    "from __future__ import absolute_import, division, print_function\n",
    "\n",
    "import matplotlib.pyplot as plt\n",
    "import itertools\n",
    "import numpy as np\n",
    "\n",
    "from rmexp import dbutils, config\n",
    "from rmexp.schema import models"
   ]
  },
  {
   "cell_type": "code",
   "execution_count": 2,
   "metadata": {},
   "outputs": [
    {
     "name": "stdout",
     "output_type": "stream",
     "text": [
      "Cannot locate board border, maybe not the full board is in the scene. Failed at stage 1:580\n",
      "Not confident about reconstruction, maybe too much noise:90\n",
      "[[2 2 2 2]]:59\n",
      "[[0 0 1 0]\n",
      " [2 2 2 2]]:38\n",
      "[[0 0 1 6]\n",
      " [2 2 2 2]]:34\n",
      "[[0 2 1 1]\n",
      " [0 2 1 6]\n",
      " [2 2 2 2]]:30\n",
      "[[0 2 2 2]\n",
      " [0 2 1 1]\n",
      " [0 2 1 6]\n",
      " [2 2 2 2]]:25\n",
      "[[0 0 1 1]\n",
      " [0 0 1 6]\n",
      " [2 2 2 2]]:19\n",
      "Cannot find a large enough foreground near the center of board:17\n",
      "[[0 0 1 1]\n",
      " [0 2 1 6]\n",
      " [2 2 2 2]]:12\n",
      "Too little black dots with more accurate dot detection. Image may be blurred:1\n"
     ]
    }
   ],
   "source": [
    "import collections\n",
    "\n",
    "%matplotlib notebook\n",
    "\n",
    "sess = dbutils.get_session()\n",
    "results = [item.val for item in sess.query(models.SS).filter(models.SS.name==\"lego_0_905\").all()]\n",
    "cnt=collections.Counter(results)\n",
    "for (item, freq) in sorted(cnt.items(), key=lambda (k,v): (v,k), reverse=True):\n",
    "    print('{}:{}'.format(item, freq))\n",
    "sess.close()"
   ]
  }
 ],
 "metadata": {
  "kernelspec": {
   "display_name": "Python 2",
   "language": "python",
   "name": "python2"
  },
  "language_info": {
   "codemirror_mode": {
    "name": "ipython",
    "version": 2
   },
   "file_extension": ".py",
   "mimetype": "text/x-python",
   "name": "python",
   "nbconvert_exporter": "python",
   "pygments_lexer": "ipython2",
   "version": "2.7.15"
  }
 },
 "nbformat": 4,
 "nbformat_minor": 2
}
